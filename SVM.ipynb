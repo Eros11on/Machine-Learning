{
 "cells": [
  {
   "cell_type": "markdown",
   "metadata": {},
   "source": [
    "# Task 2"
   ]
  },
  {
   "cell_type": "markdown",
   "metadata": {
    "id": "CpkIz7gYk0Z1"
   },
   "source": [
    "Step 1: Gather/Load Data (Using sklearn.datasets is acceptable)"
   ]
  },
  {
   "cell_type": "code",
   "execution_count": 1,
   "metadata": {
    "id": "yxfr51nIpLnz"
   },
   "outputs": [],
   "source": [
    "from sklearn.datasets import fetch_rcv1\n",
    "rcv1 = fetch_rcv1()"
   ]
  },
  {
   "cell_type": "markdown",
   "metadata": {},
   "source": [
    "Step2: Define your problem: I choose GCAT as a postive class"
   ]
  },
  {
   "cell_type": "code",
   "execution_count": 2,
   "metadata": {
    "colab": {
     "base_uri": "https://localhost:8080/"
    },
    "id": "LSQTIJvKsMt1",
    "outputId": "43893160-f393-4870-b304-37f3b06390df"
   },
   "outputs": [
    {
     "name": "stdout",
     "output_type": "stream",
     "text": [
      "(804414, 47236)\n",
      "['C11' 'C12' 'C13' 'C14' 'C15' 'C151' 'C1511' 'C152' 'C16' 'C17' 'C171'\n",
      " 'C172' 'C173' 'C174' 'C18' 'C181' 'C182' 'C183' 'C21' 'C22' 'C23' 'C24'\n",
      " 'C31' 'C311' 'C312' 'C313' 'C32' 'C33' 'C331' 'C34' 'C41' 'C411' 'C42'\n",
      " 'CCAT' 'E11' 'E12' 'E121' 'E13' 'E131' 'E132' 'E14' 'E141' 'E142' 'E143'\n",
      " 'E21' 'E211' 'E212' 'E31' 'E311' 'E312' 'E313' 'E41' 'E411' 'E51' 'E511'\n",
      " 'E512' 'E513' 'E61' 'E71' 'ECAT' 'G15' 'G151' 'G152' 'G153' 'G154' 'G155'\n",
      " 'G156' 'G157' 'G158' 'G159' 'GCAT' 'GCRIM' 'GDEF' 'GDIP' 'GDIS' 'GENT'\n",
      " 'GENV' 'GFAS' 'GHEA' 'GJOB' 'GMIL' 'GOBIT' 'GODD' 'GPOL' 'GPRO' 'GREL'\n",
      " 'GSCI' 'GSPO' 'GTOUR' 'GVIO' 'GVOTE' 'GWEA' 'GWELF' 'M11' 'M12' 'M13'\n",
      " 'M131' 'M132' 'M14' 'M141' 'M142' 'M143' 'MCAT']\n",
      "(804414, 103)\n"
     ]
    }
   ],
   "source": [
    "#print(rcv1.feature_names)\n",
    "print(rcv1.data.shape)\n",
    "print(rcv1.target_names)\n",
    "print(rcv1.target.shape)"
   ]
  },
  {
   "cell_type": "code",
   "execution_count": 3,
   "metadata": {
    "id": "DN5GeDsZlTTD"
   },
   "outputs": [],
   "source": [
    "columns = rcv1.target_names"
   ]
  },
  {
   "cell_type": "code",
   "execution_count": 4,
   "metadata": {
    "colab": {
     "base_uri": "https://localhost:8080/"
    },
    "id": "Iu4vsrfslPft",
    "outputId": "2b3a3061-54df-4328-f92a-c19525e2fd04"
   },
   "outputs": [
    {
     "data": {
      "text/plain": [
       "(array([70]),)"
      ]
     },
     "execution_count": 4,
     "metadata": {},
     "output_type": "execute_result"
    }
   ],
   "source": [
    "import numpy as np\n",
    "np.where(columns==\"GCAT\")"
   ]
  },
  {
   "cell_type": "markdown",
   "metadata": {},
   "source": [
    "Step3: Prepare Your Data (Select, Preprocess, transform to features, choose your features and explain)"
   ]
  },
  {
   "cell_type": "code",
   "execution_count": 5,
   "metadata": {
    "id": "0g19GIYVmYoo"
   },
   "outputs": [],
   "source": [
    "arr = rcv1.target.toarray()"
   ]
  },
  {
   "cell_type": "code",
   "execution_count": 6,
   "metadata": {
    "id": "34_Y_kQxo6KT"
   },
   "outputs": [],
   "source": [
    "rowNum = arr.shape[0]"
   ]
  },
  {
   "cell_type": "code",
   "execution_count": 7,
   "metadata": {
    "id": "U24UBXz_pEsG"
   },
   "outputs": [],
   "source": [
    "labels = []\n",
    "for num in range(rowNum):\n",
    "  target = arr[num,:][70]\n",
    "  if target==1:\n",
    "    labels.append(1)\n",
    "  else:\n",
    "    labels.append(0)"
   ]
  },
  {
   "cell_type": "code",
   "execution_count": 8,
   "metadata": {
    "id": "LjRs1e1Zo6P3"
   },
   "outputs": [],
   "source": [
    "training_samples = 23149\n",
    "\n",
    "X_train = rcv1.data[:training_samples]\n",
    "X_test = rcv1.data[training_samples:]\n",
    "\n",
    "y_train = labels[:training_samples]\n",
    "y_test = labels[training_samples:]"
   ]
  },
  {
   "cell_type": "markdown",
   "metadata": {
    "id": "DRThtsLRqCfM"
   },
   "source": [
    "Step 4: Choose a Model for classification (I choose SVM)"
   ]
  },
  {
   "cell_type": "code",
   "execution_count": 9,
   "metadata": {
    "id": "Tni4045vpaZd"
   },
   "outputs": [],
   "source": [
    "from sklearn.svm import SVC"
   ]
  },
  {
   "cell_type": "code",
   "execution_count": 10,
   "metadata": {
    "colab": {
     "base_uri": "https://localhost:8080/"
    },
    "id": "tRM73HG9o6SD",
    "outputId": "470a5594-56eb-40c1-a46d-bd0c82323d77"
   },
   "outputs": [
    {
     "data": {
      "text/plain": [
       "SVC(C=1, gamma=0.1)"
      ]
     },
     "execution_count": 10,
     "metadata": {},
     "output_type": "execute_result"
    }
   ],
   "source": [
    "clf = SVC(C=1,kernel='rbf',gamma=0.1)\n",
    "\n",
    "## model training\n",
    "clf.fit(X_train, y_train)"
   ]
  },
  {
   "cell_type": "markdown",
   "metadata": {
    "id": "t7K-6fbdq-5F"
   },
   "source": [
    "Step 5: Build, Train, and Evaluate Your Model"
   ]
  },
  {
   "cell_type": "code",
   "execution_count": 11,
   "metadata": {
    "id": "_aYpH22rrkzx"
   },
   "outputs": [],
   "source": [
    "from sklearn.metrics import accuracy_score"
   ]
  },
  {
   "cell_type": "code",
   "execution_count": 12,
   "metadata": {
    "colab": {
     "base_uri": "https://localhost:8080/"
    },
    "id": "10ciqGzinsyn",
    "outputId": "e8e4e41b-e6fe-47dd-fdd8-3946c1cfc4f8"
   },
   "outputs": [
    {
     "name": "stdout",
     "output_type": "stream",
     "text": [
      "0.9695019223292582\n",
      "Training set accuracy: 0.9695019223292582\n",
      "0.953623930420536\n",
      "Test set accuracy: 0.953623930420536\n"
     ]
    }
   ],
   "source": [
    "print(clf.score(X_train, y_train)) \n",
    "print('Training set accuracy:', accuracy_score(y_train, clf.predict(X_train)))\n",
    "print(clf.score(X_test, y_test))\n",
    "y_pred = clf.predict(X_test)\n",
    "print('Test set accuracy:', accuracy_score(y_test, y_pred))"
   ]
  },
  {
   "cell_type": "code",
   "execution_count": 13,
   "metadata": {
    "id": "la5-a7dJt2yk"
   },
   "outputs": [],
   "source": [
    "from sklearn.metrics import roc_curve\n",
    "import matplotlib.pyplot as plt"
   ]
  },
  {
   "cell_type": "code",
   "execution_count": 14,
   "metadata": {
    "colab": {
     "base_uri": "https://localhost:8080/",
     "height": 388
    },
    "id": "8lVAPRNkteuk",
    "outputId": "dda41581-3518-4a8f-e63c-3db43ad10c2b"
   },
   "outputs": [
    {
     "data": {
      "image/png": "[encoded data removed]",
      "text/plain": [
       "<Figure size 720x432 with 1 Axes>"
      ]
     },
     "metadata": {
      "needs_background": "light"
     },
     "output_type": "display_data"
    }
   ],
   "source": [
    "fpr, tpr, thresholds = roc_curve(y_test,y_pred)\n",
    "plt.figure(figsize=(10,6))\n",
    "plt.xlim(0,1)   \n",
    "plt.ylim(0.0,1.1) \n",
    "plt.xlabel('False Postive Rate')\n",
    "plt.ylabel('True Postive Rate')\n",
    "plt.plot(fpr,tpr,linewidth=2, linestyle=\"-\",color='red')\n",
    "plt.show()"
   ]
  },
  {
   "cell_type": "markdown",
   "metadata": {
    "id": "hFd6I69Cns1p"
   },
   "source": [
    "We can see that the model performs almost well,its accuracy is 0.95 and its ROC curve performs well."
   ]
  },
  {
   "cell_type": "markdown",
   "metadata": {},
   "source": [
    "## Why I choose SVM kernel = rbf "
   ]
  },
  {
   "cell_type": "markdown",
   "metadata": {},
   "source": [
    "The RBF kernel is a non-linear kernel that maps the input features into an infinite-dimensional feature space. It is commonly used in SVMs when the data is not linearly separable."
   ]
  },
  {
   "cell_type": "markdown",
   "metadata": {},
   "source": [
    "## Ideas that I attempted that didn't work "
   ]
  },
  {
   "cell_type": "markdown",
   "metadata": {},
   "source": [
    "In the beginning, I did not use this function #arr = rcv1.target.toarray(), so there is an error: Index dimension must be <= 2. After searching it online, I found that rcv1.target is a multi-dimensional array, so I have to convert it to nto a 2-dimensional array. Then I tried \n",
    "\n",
    "#rcv1.target = rcv1.target.reshape(-1, 1)  \n",
    "y = (rcv1.target[:, 0] ==1).astype(int)\n",
    "\n",
    "But this did not work.\n"
   ]
  },
  {
   "cell_type": "code",
   "execution_count": null,
   "metadata": {},
   "outputs": [],
   "source": []
  }
 ],
 "metadata": {
  "colab": {
   "provenance": []
  },
  "kernelspec": {
   "display_name": "Python 3 (ipykernel)",
   "language": "python",
   "name": "python3"
  },
  "language_info": {
   "codemirror_mode": {
    "name": "ipython",
    "version": 3
   },
   "file_extension": ".py",
   "mimetype": "text/x-python",
   "name": "python",
   "nbconvert_exporter": "python",
   "pygments_lexer": "ipython3",
   "version": "3.9.7"
  }
 },
 "nbformat": 4,
 "nbformat_minor": 1
}
